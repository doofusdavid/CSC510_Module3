{
  "nbformat": 4,
  "nbformat_minor": 0,
  "metadata": {
    "colab": {
      "name": "CSC510_Module3_CriticalThinking.ipynb",
      "provenance": [],
      "collapsed_sections": [],
      "toc_visible": true,
      "authorship_tag": "ABX9TyPdCyavvlupe6x0AxwTY8fk",
      "include_colab_link": true
    },
    "kernelspec": {
      "name": "python3",
      "display_name": "Python 3"
    },
    "language_info": {
      "name": "python"
    }
  },
  "cells": [
    {
      "cell_type": "markdown",
      "metadata": {
        "id": "view-in-github",
        "colab_type": "text"
      },
      "source": [
        "<a href=\"https://colab.research.google.com/github/doofusdavid/CSC510_Module3/blob/main/CSC510_Module3_CriticalThinking.ipynb\" target=\"_parent\"><img src=\"https://colab.research.google.com/assets/colab-badge.svg\" alt=\"Open In Colab\"/></a>"
      ]
    },
    {
      "cell_type": "markdown",
      "metadata": {
        "id": "qLAKnqv0ZXtl"
      },
      "source": [
        "# Module 3 - Critical Thinking - Option 2\n",
        "### David Edwards\n",
        "CSC510 - Foundations of Artificial Intelligence\n",
        "\n",
        "Colorado State University-Global Campus\n",
        "\n",
        "Dr. Isaac K. Gang\n",
        "\n",
        "August 8, 2021\n",
        "\n",
        "---"
      ]
    },
    {
      "cell_type": "markdown",
      "metadata": {
        "id": "cSWZSL4KZubp"
      },
      "source": [
        "> Using Tensorflow and your own research, write a basic Tensorflow ANN model to perform a basic function of your choosing. Your submission should be inference-ready upon execution, and include all model checkpoints necessary for inference. Your submission should include a self-executable Python script, which model inference can be confirmed. The executable script should visually display results. Accuracy will not be graded but must run without error and display classification results on-screen.\n",
        "\n",
        "\n",
        "\n",
        "\n",
        "\n"
      ]
    },
    {
      "cell_type": "markdown",
      "metadata": {
        "id": "bzAdAdk9bPRa"
      },
      "source": [
        "### First let's get everything set up."
      ]
    },
    {
      "cell_type": "code",
      "metadata": {
        "id": "MuiOVMYaNF-q"
      },
      "source": [
        "# Need tensorflow for everything\n",
        "import tensorflow as tf\n",
        "# we use keras a lot, so lets make it easier to call\n",
        "from tensorflow import keras\n",
        "import numpy as np\n",
        "# We want to see some pictures\n",
        "import matplotlib.pyplot as plt\n"
      ],
      "execution_count": 2,
      "outputs": []
    },
    {
      "cell_type": "markdown",
      "metadata": {
        "id": "jrlNj8gUyjEH"
      },
      "source": [
        "I'm creating a helper function to display an article of clothing with the label."
      ]
    },
    {
      "cell_type": "code",
      "metadata": {
        "id": "yk86M-CX9Wdw"
      },
      "source": [
        "def get_best_value(list):\n",
        "  return np.argmax(list)"
      ],
      "execution_count": 35,
      "outputs": []
    },
    {
      "cell_type": "code",
      "metadata": {
        "id": "ry4RCbXoeBT8"
      },
      "source": [
        "def print_clothing(images, labels, index):\n",
        "  class_names = ['T-shirt/top', 'Trouser', 'Pullover', 'Dress', 'Coat',\n",
        "               'Sandal', 'Shirt', 'Sneaker', 'Bag', 'Ankle boot']\n",
        "  plt.figure()\n",
        "  plt.imshow(images[index])\n",
        "  plt.grid(False)\n",
        "  plt.show()\n",
        "  print(class_names[labels[index]])"
      ],
      "execution_count": 36,
      "outputs": []
    },
    {
      "cell_type": "code",
      "metadata": {
        "id": "B-WmwaM7-LLX"
      },
      "source": [
        "def print_classification_clothing(images, classifications, index):\n",
        "  class_names = ['T-shirt/top', 'Trouser', 'Pullover', 'Dress', 'Coat',\n",
        "               'Sandal', 'Shirt', 'Sneaker', 'Bag', 'Ankle boot']\n",
        "  plt.figure()\n",
        "  plt.imshow(images[index])\n",
        "  plt.grid(False)\n",
        "  plt.show()\n",
        "  print(class_names[get_best_value(classifications[index])])"
      ],
      "execution_count": 39,
      "outputs": []
    },
    {
      "cell_type": "markdown",
      "metadata": {
        "id": "QcjLoR_ZzBxk"
      },
      "source": [
        "We're going to use the MNIST fasion dataset to try to train a model for clothing identification.  "
      ]
    },
    {
      "cell_type": "code",
      "metadata": {
        "id": "Yz603am5OV53"
      },
      "source": [
        "clothing_mnist = keras.datasets.fashion_mnist"
      ],
      "execution_count": 3,
      "outputs": []
    },
    {
      "cell_type": "markdown",
      "metadata": {
        "id": "mnOceH5GzJUR"
      },
      "source": [
        "This will load the data from Google, and split it into two datasets, one for training, one for testing.  In addition, each of those datasets consists of the image and the corresponding label."
      ]
    },
    {
      "cell_type": "code",
      "metadata": {
        "id": "0ULcBoLnd1Ah"
      },
      "source": [
        "(train_img, train_lbl), (test_img, test_lbl) = clothing_mnist.load_data()"
      ],
      "execution_count": 20,
      "outputs": []
    },
    {
      "cell_type": "markdown",
      "metadata": {
        "id": "lX5Q61_Wy5k8"
      },
      "source": [
        "Let's make sure we have some valid clothing items in here."
      ]
    },
    {
      "cell_type": "code",
      "metadata": {
        "colab": {
          "base_uri": "https://localhost:8080/",
          "height": 283
        },
        "id": "EA--4UEEys6J",
        "outputId": "4a4b0ef3-c132-444d-eefe-066a7076143f"
      },
      "source": [
        "print_clothing(train_img,train_lbl, 212)"
      ],
      "execution_count": 8,
      "outputs": [
        {
          "output_type": "display_data",
          "data": {
            "image/png": "[encoded data removed]",
            "text/plain": [
              "<Figure size 432x288 with 1 Axes>"
            ]
          },
          "metadata": {
            "tags": [],
            "needs_background": "light"
          }
        },
        {
          "output_type": "stream",
          "text": [
            "Bag\n"
          ],
          "name": "stdout"
        }
      ]
    },
    {
      "cell_type": "code",
      "metadata": {
        "colab": {
          "base_uri": "https://localhost:8080/",
          "height": 283
        },
        "id": "s1EOaLgCeyi2",
        "outputId": "84de18d1-d8b5-4d4f-f048-573e6d5f60dd"
      },
      "source": [
        "print_clothing(train_img, train_lbl, 101)"
      ],
      "execution_count": 10,
      "outputs": [
        {
          "output_type": "display_data",
          "data": {
            "image/png": "[encoded data removed]",
            "text/plain": [
              "<Figure size 432x288 with 1 Axes>"
            ]
          },
          "metadata": {
            "tags": [],
            "needs_background": "light"
          }
        },
        {
          "output_type": "stream",
          "text": [
            "T-shirt/top\n"
          ],
          "name": "stdout"
        }
      ]
    },
    {
      "cell_type": "markdown",
      "metadata": {
        "id": "ojOAuXeU0eTK"
      },
      "source": [
        "These images are stored in a large array of grayscale values.  If we print out the image data, we can see the top row is all black (0), and the next row has some values representing the top of the shirt.  "
      ]
    },
    {
      "cell_type": "code",
      "metadata": {
        "colab": {
          "base_uri": "https://localhost:8080/"
        },
        "id": "zyWj0zckzscd",
        "outputId": "dd4148e1-e084-4ce2-c272-db3e0586887a"
      },
      "source": [
        "print(train_img[101])"
      ],
      "execution_count": 12,
      "outputs": [
        {
          "output_type": "stream",
          "text": [
            "[[  0   0   0   0   0   0   0   0   0   0   0   0   0   0   0   0   0   0\n",
            "    0   0   0   0   0   0   0   0   0   0]\n",
            " [  0   0   0   0   0   0   0   0 160 138  52   0   0   0   0   0   0  14\n",
            "  116 166 179   6   0   0   0   0   0   0]\n",
            " [  0   0   0   0   0   0   0   0 190 164 207 176 151 111  88 120 169 208\n",
            "  255 174 181  13   0   0   0   0   0   0]\n",
            " [  0   0   0   0   0   0   0   0 210 194 166 254 251  87   0 148 254 255\n",
            "  204 155 216   2   0   0   0   0   0   0]\n",
            " [  0   0   0   0   0   0   0  33 218 235 153 135 243 208 173 252 255 198\n",
            "   85 225 218  14   0   0   0   0   0   0]\n",
            " [  0   0   0   0   0   0   0  75 226 222 250 136  98 158 188 166 115  95\n",
            "  227 229 223  52   0   0   0   0   0   0]\n",
            " [  0   0   0   0   0   0   0 120 252 218 226 253 227 176 153 170 209 252\n",
            "  235 219 231  94   0   0   0   0   0   0]\n",
            " [  0   0   0   0   0   0   0 158 243 219 223 219 223 230 231 230 226 219\n",
            "  220 218 228 134   0   0   0   0   0   0]\n",
            " [  0   0   0   0   0   0   0 173 236 220 219 219 228 231 230 229 227 218\n",
            "  216 217 223 135   0   0   0   0   0   0]\n",
            " [  0   0   0   0   0   0   0 182 221 219 226 253 205 151 134 148 201 253\n",
            "  224 211 221 119   0   0   0   0   0   0]\n",
            " [  0   0   0   0   0   0   0 182 221 225 234  74  11  10  11  10   8  41\n",
            "  216 220 219 126   0   0   0   0   0   0]\n",
            " [  0   0   0   0   0   0   0 164 226 236  33  17  25  35  29  12  23  11\n",
            "   11 219 223 125   0   0   0   0   0   0]\n",
            " [  0   0   0   0   0   0   0 146 237 114  18  92  82  14  39 119  17  30\n",
            "   16  77 231 121   0   0   0   0   0   0]\n",
            " [  0   0   0   0   0   0   0 155 220  40  18 218 181  10  95 238  19  19\n",
            "   34  14 247 151   0   0   0   0   0   0]\n",
            " [  0   0   0   0   0   0   0 148 241  26  22 188 160  10  72 196  18  12\n",
            "   25  16 193 161   0   0   0   0   0   0]\n",
            " [  0   0   0   0   0   0   0 120 235  24  42  42  36  28  23  28  15  69\n",
            "  128  15 179 161   0   0   0   0   0   0]\n",
            " [  0   0   0   0   0   0   0 107 205  25  50  42  37  41  39  32   9  79\n",
            "  255  13 175 165   0   0   0   0   0   0]\n",
            " [  0   0   0   0   0   0   0  93 229  42  36  53  40  15  18  32 125 132\n",
            "  129  30 225 158   0   0   0   0   0   0]\n",
            " [  0   0   0   0   0   0   0  84 240 160  15  61 175 163 167 170 118  14\n",
            "   12  96 253 153   0   0   0   0   0   0]\n",
            " [  0   0   0   0   0   0   0  94 227 227 121  13  16  25  25  11   9   9\n",
            "   81 252 216 179   0   0   0   0   0   0]\n",
            " [  0   0   0   0   0   0   0  95 231 218 231 186  74  17  12  12  51 152\n",
            "  253 216 213 185   0   0   0   0   0   0]\n",
            " [  0   0   0   0   0   0   0  93 232 219 221 232 253 249 236 243 252 231\n",
            "  217 216 221 190   0   0   0   0   0   0]\n",
            " [  0   0   0   0   0   0   0 103 253 222 223 221 221 225 227 225 220 219\n",
            "  218 217 219 196   0   0   0   0   0   0]\n",
            " [  0   0   0   0   0   0   0 110 253 222 224 224 224 222 223 223 225 225\n",
            "  223 220 221 202   0   0   0   0   0   0]\n",
            " [  0   0   0   0   0   0   0 112 253 223 224 224 225 224 227 226 226 227\n",
            "  225 222 221 207   0   0   0   0   0   0]\n",
            " [  0   0   0   0   0   0   0 109 233 222 225 222 223 222 225 224 223 221\n",
            "  219 216 216 203   0   0   0   0   0   0]\n",
            " [  0   0   0   0   0   0   0 123 255 231 240 238 238 237 237 240 245 245\n",
            "  245 245 252 237   0   0   0   0   0   0]\n",
            " [  0   0   0   0   0   0   0   0 145 168 197 206 204 205 205 198 191 180\n",
            "  171 163 169 111   0   0   0   0   0   0]]\n"
          ],
          "name": "stdout"
        }
      ]
    },
    {
      "cell_type": "markdown",
      "metadata": {
        "id": "Lub6SZxQ0-j1"
      },
      "source": [
        "\n",
        "When doing the ANN, we want to have values from 0 to 1 instead of 0 to 255.  Let's normalize this."
      ]
    },
    {
      "cell_type": "code",
      "metadata": {
        "colab": {
          "base_uri": "https://localhost:8080/"
        },
        "id": "AKVF8EpK0Zz8",
        "outputId": "9bb48b87-9d35-4db3-a060-b794ff54f970"
      },
      "source": [
        "train_img  = train_img / 255.0\n",
        "test_img = test_img / 255.0\n",
        "\n",
        "print(train_img[101][1])"
      ],
      "execution_count": 21,
      "outputs": [
        {
          "output_type": "stream",
          "text": [
            "[0.         0.         0.         0.         0.         0.\n",
            " 0.         0.         0.62745098 0.54117647 0.20392157 0.\n",
            " 0.         0.         0.         0.         0.         0.05490196\n",
            " 0.45490196 0.65098039 0.70196078 0.02352941 0.         0.\n",
            " 0.         0.         0.         0.        ]\n"
          ],
          "name": "stdout"
        }
      ]
    },
    {
      "cell_type": "markdown",
      "metadata": {
        "id": "QltRDlF71Vfd"
      },
      "source": [
        "These are now floats between 0 and 1, which is perfect.\n",
        "\n",
        "Now, per the assignment, we are going to define a model with one hidden layer (the \"keras.layers.Dense(128, activation=tf.nn.relu)\" layer.\n"
      ]
    },
    {
      "cell_type": "code",
      "metadata": {
        "id": "RPDW-FKL1Shf"
      },
      "source": [
        "model = keras.models.Sequential([keras.layers.Flatten(), \n",
        "                                    keras.layers.Dense(128, activation=tf.nn.relu), \n",
        "                                    keras.layers.Dense(10, activation=tf.nn.softmax)])"
      ],
      "execution_count": 15,
      "outputs": []
    },
    {
      "cell_type": "markdown",
      "metadata": {
        "id": "zg7sqPaY19Br"
      },
      "source": [
        "Now we will actually *train* this model."
      ]
    },
    {
      "cell_type": "code",
      "metadata": {
        "colab": {
          "base_uri": "https://localhost:8080/"
        },
        "id": "jajmNF8n1wZP",
        "outputId": "40c58e32-5354-45c0-8b47-7bf3e1ad4955"
      },
      "source": [
        "model.compile(optimizer = keras.optimizers.Adam(),\n",
        "              loss = 'sparse_categorical_crossentropy',\n",
        "              metrics=['accuracy'])\n",
        "\n",
        "model.fit(train_img, train_lbl, epochs=5)"
      ],
      "execution_count": 22,
      "outputs": [
        {
          "output_type": "stream",
          "text": [
            "Epoch 1/5\n",
            "1875/1875 [==============================] - 5s 2ms/step - loss: 0.4956 - accuracy: 0.8260\n",
            "Epoch 2/5\n",
            "1875/1875 [==============================] - 4s 2ms/step - loss: 0.3713 - accuracy: 0.8658\n",
            "Epoch 3/5\n",
            "1875/1875 [==============================] - 4s 2ms/step - loss: 0.3359 - accuracy: 0.8779\n",
            "Epoch 4/5\n",
            "1875/1875 [==============================] - 4s 2ms/step - loss: 0.3093 - accuracy: 0.8867\n",
            "Epoch 5/5\n",
            "1875/1875 [==============================] - 4s 2ms/step - loss: 0.2939 - accuracy: 0.8911\n"
          ],
          "name": "stdout"
        },
        {
          "output_type": "execute_result",
          "data": {
            "text/plain": [
              "<tensorflow.python.keras.callbacks.History at 0x7f4cca278150>"
            ]
          },
          "metadata": {
            "tags": []
          },
          "execution_count": 22
        }
      ]
    },
    {
      "cell_type": "markdown",
      "metadata": {
        "id": "Zi4xc7YU2TY3"
      },
      "source": [
        "We now have a trained model with our training data.  Let's see how accurately it predicts our test data."
      ]
    },
    {
      "cell_type": "code",
      "metadata": {
        "colab": {
          "base_uri": "https://localhost:8080/"
        },
        "id": "Or7nwXE42H9y",
        "outputId": "fb02fe00-6e63-4efb-951c-ad97ff289e33"
      },
      "source": [
        "model.evaluate(test_img, test_lbl)"
      ],
      "execution_count": 23,
      "outputs": [
        {
          "output_type": "stream",
          "text": [
            "313/313 [==============================] - 1s 1ms/step - loss: 0.3653 - accuracy: 0.8684\n"
          ],
          "name": "stdout"
        },
        {
          "output_type": "execute_result",
          "data": {
            "text/plain": [
              "[0.36527085304260254, 0.868399977684021]"
            ]
          },
          "metadata": {
            "tags": []
          },
          "execution_count": 23
        }
      ]
    },
    {
      "cell_type": "markdown",
      "metadata": {
        "id": "YLrnwT--4Epr"
      },
      "source": [
        "This is showing an accuracy of 86.8%, which for a 5 epoch run with only one hidden layer, seems like an acceptable rate.  "
      ]
    },
    {
      "cell_type": "code",
      "metadata": {
        "id": "oePjy02M4De-"
      },
      "source": [
        "classifications = model.predict(test_img)"
      ],
      "execution_count": 25,
      "outputs": []
    },
    {
      "cell_type": "code",
      "metadata": {
        "colab": {
          "base_uri": "https://localhost:8080/",
          "height": 283
        },
        "id": "ABXOKwIV2f42",
        "outputId": "77a519d0-151c-491a-c945-2cbd269824da"
      },
      "source": [
        "print_clothing(test_img, test_lbl,2)"
      ],
      "execution_count": 27,
      "outputs": [
        {
          "output_type": "display_data",
          "data": {
            "image/png": "[encoded data removed]",
            "text/plain": [
              "<Figure size 432x288 with 1 Axes>"
            ]
          },
          "metadata": {
            "tags": [],
            "needs_background": "light"
          }
        },
        {
          "output_type": "stream",
          "text": [
            "Trouser\n"
          ],
          "name": "stdout"
        }
      ]
    },
    {
      "cell_type": "code",
      "metadata": {
        "colab": {
          "base_uri": "https://localhost:8080/"
        },
        "id": "yOMe1_Rf8syX",
        "outputId": "4b11874f-3c9e-48e7-e2a6-c87002dddbc8"
      },
      "source": [
        "print(classifications[2])\n"
      ],
      "execution_count": 34,
      "outputs": [
        {
          "output_type": "stream",
          "text": [
            "[3.8143736e-07 9.9999964e-01 2.6717739e-10 1.3653415e-08 2.7340183e-09\n",
            " 1.1581981e-15 2.7067248e-10 3.7657153e-17 4.4980832e-13 8.3551773e-17]\n"
          ],
          "name": "stdout"
        }
      ]
    },
    {
      "cell_type": "code",
      "metadata": {
        "colab": {
          "base_uri": "https://localhost:8080/",
          "height": 549
        },
        "id": "LP9BZjJj9iIe",
        "outputId": "6de015a3-b627-4e2e-e9a8-ef8b2e5e2ce0"
      },
      "source": [
        "print_classification_clothing(test_img, classifications, 21)\n",
        "print_clothing(test_img, test_lbl, 21)"
      ],
      "execution_count": 42,
      "outputs": [
        {
          "output_type": "display_data",
          "data": {
            "image/png": "[encoded data removed]",
            "text/plain": [
              "<Figure size 432x288 with 1 Axes>"
            ]
          },
          "metadata": {
            "tags": [],
            "needs_background": "light"
          }
        },
        {
          "output_type": "stream",
          "text": [
            "Sandal\n"
          ],
          "name": "stdout"
        },
        {
          "output_type": "display_data",
          "data": {
            "image/png": "[encoded data removed]",
            "text/plain": [
              "<Figure size 432x288 with 1 Axes>"
            ]
          },
          "metadata": {
            "tags": [],
            "needs_background": "light"
          }
        },
        {
          "output_type": "stream",
          "text": [
            "Sandal\n"
          ],
          "name": "stdout"
        }
      ]
    },
    {
      "cell_type": "markdown",
      "metadata": {
        "id": "wG7KQxFX-2jJ"
      },
      "source": [
        "The first value is what our model predicted, and the second is what it actually was.  In this case, our model predicted this properly.  "
      ]
    },
    {
      "cell_type": "code",
      "metadata": {
        "id": "kZdRdHA09ljG"
      },
      "source": [
        ""
      ],
      "execution_count": null,
      "outputs": []
    }
  ]
}